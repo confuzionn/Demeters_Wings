{
 "cells": [
  {
   "cell_type": "markdown",
   "metadata": {},
   "source": [
    "# ADaX Documentation\n",
    "------------------\n",
    "ADaX.py is used for specifying what commands ADaX will run. The file imports the following functions:\n",
    "\n",
    "- Aircraft_Geometry.py: Update_Geometry() to create new aircraft geometry\n",
    "- AVL_Presets.py: All presets\n",
    "- Code/Codebase.py: All commands\n",
    "\n",
    "All of the above are accessible from the ADaX.py file. The user will write their own script to determine what is fed to AVL.\n",
    "\n",
    "### Examples\n",
    "---\n",
    "```.\n",
    "Update_Geometry()\n",
    "Use_Raw()\n",
    "```\n",
    "Updates the geometry defined in `Aircraft_Geometry()` and then calls `Use_Raw()` (a preset) to tell AVL to use the Raw Run Commands text file.\n",
    "\n",
    "---\n",
    "```.\n",
    "Update_Geometry()\n",
    "ad = ADaX('TitanWing.avl')\n",
    "ad.output_config(['t Alpha', 't CLtot'])\n",
    "Trim(ad)\n",
    "```\n",
    "Updates the geometry, creates an ADaX object (to access its methods), configures the output to display angle of attack and aircraft lift coefficient, then uses a preset to trim the aircraft.\n",
    "\n",
    "---\n",
    "```.\n",
    "Update_Geometry()\n",
    "ad = ADaX('TitanWing.avl')\n",
    "Inviscid_Polar(ad, np.arange(-5,5.1,1), 'd1 pm 0')\n",
    "```\n",
    "Updates the geometry, creates an ADaX object, then uses the `Inviscid_Polar()` preset to create a polar (from angle of attack -5 to 5 in steps of 1, using 'd1 pm 0' as the trim condition).\n",
    "\n",
    "---\n",
    "\n",
    "Advanced users may define their own presets or use the ADaX class methods to create the run case.\n",
    "\n"
   ]
  }
 ],
 "metadata": {
  "language_info": {
   "name": "python"
  }
 },
 "nbformat": 4,
 "nbformat_minor": 2
}
