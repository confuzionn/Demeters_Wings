{
 "cells": [
  {
   "cell_type": "markdown",
   "metadata": {},
   "source": [
    "# CaseMaker Documentation\n",
    "\n",
    "`CaseMaker.py` is a tool for creating run cases outside of AVL. This process can be done inside AVL, but this file provides an alternate option. The file includes six sections for the user to edit:\n",
    "\n",
    "- `AVL_file`: The .avl file of the aircraft being analyzed. Only used if default values are requested.\n",
    "- `Case_file`: Name of the .run file to create/modify.\n",
    "- `Case_name`: Name of the run case to create/modify in the .run file.\n",
    "- `Case_vcv`: The variable-constraint-value pairs for the run case.\n",
    "- `Case_flight_conditions`: Flight phase information.\n",
    "- `Case_mass_properties`: Mass properties.\n",
    "- `Case_viscous_properties`: Viscous properties, obtained outside of AVL.\n",
    "\n",
    "To request a default value, such as X_cg, Y_cg, and Z_cg (these values are set from Xref, Yref, Zref in the .avl file), set the value equal to -1 (as an integer). This will run a dummy AVL case and obtain the default values. If you actually want to set the value of something to negative one, use '-1.0' (as a float).\n",
    "\n",
    "You do not need to edit any of the code present at the bottom of the file. "
   ]
  }
 ],
 "metadata": {
  "language_info": {
   "name": "python"
  }
 },
 "nbformat": 4,
 "nbformat_minor": 2
}
