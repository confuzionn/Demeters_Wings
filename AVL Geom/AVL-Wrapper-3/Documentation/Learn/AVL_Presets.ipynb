{
 "cells": [
  {
   "cell_type": "markdown",
   "metadata": {},
   "source": [
    "# AVL Presets Documentation\n",
    "\n",
    "The `AVL_Presets.py` file includes common scripts that may be called multiple times. Each one (except `Use_Raw()`) must be provided an ADaX object (called ad in each function) to work. This is because the .avl file and input string is contained in the ADaX object; the presets do not create their own objects, they simply add to an existing input string. For example, the user may define a custom output or load a run case before calling a preset.\n",
    "\n",
    "The existing presets are:\n",
    "\n",
    "- `Use_Raw()`: Uses the raw AVL input from Raw Run Commands. If a user is familiar with AVL but not with the library, they may choose to use this.\n",
    "- `Trim()`: Trims the aircraft using a lift coefficient while zeroing the pitching moment using the elevator. Must edit to use your aircraft's trim CL and control surface.\n",
    "- `Show()`: Displays the aircraft geometry (oper + g), but will timeout AVL. Automatically exits after 30 seconds, or use CTRL+C in Visual Studio to exit.\n",
    "- `Stall_Prediction`: NOT A PROPER ASSESSMENT OF STALL BEHAVIOR. \"Predicts\" stall by finding when the highest airfoil lift coefficient is 95% of the maximum.\n",
    "- `Inviscid_Polar`: Creates an inviscid polar including induced and trim drag. Must provide an angle of attack range and trim constraint.\n"
   ]
  }
 ],
 "metadata": {
  "language_info": {
   "name": "python"
  }
 },
 "nbformat": 4,
 "nbformat_minor": 2
}
