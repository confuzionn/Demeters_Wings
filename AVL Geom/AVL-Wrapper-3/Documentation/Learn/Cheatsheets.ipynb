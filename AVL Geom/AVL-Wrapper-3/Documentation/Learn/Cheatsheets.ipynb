{
 "cells": [
  {
   "cell_type": "markdown",
   "metadata": {},
   "source": [
    "# Cheatsheets\n",
    "\n",
    "The cheatsheets provided in Documentation are for quick reference. The include the ADaX class methods, Autodebug error codes, and AVL keywords."
   ]
  }
 ],
 "metadata": {
  "language_info": {
   "name": "python"
  }
 },
 "nbformat": 4,
 "nbformat_minor": 2
}
